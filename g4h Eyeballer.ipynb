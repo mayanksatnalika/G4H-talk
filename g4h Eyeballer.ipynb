{
 "cells": [
  {
   "cell_type": "markdown",
   "metadata": {},
   "source": [
    "<h1><em><strong>Task Intro:&nbsp;</strong></em></h1>\n"
   ]
  },
  {
   "cell_type": "markdown",
   "metadata": {},
   "source": [
    "<p>Task: You have a lot of screenshots from some tool like <strong>aquatone</strong>.&nbsp;<a href=\"https://github.com/michenriksen/aquatone\" target=\"_blank\">https://github.com/michenriksen/aquatone</a>. Instead of manually looking at each web page for finding interesting page, we built a classifier to find the interesting page.&nbsp;</p>\n",
    "\n",
    "<p>We classify each screenshot into one of the following categories:</p>\n",
    "\n",
    "<ol>\n",
    "\t<li>&nbsp;Custom 404 Page: The status code might not be 404 but the page is</li>\n",
    "\t<li>Login Page</li>\n",
    "\t<li>Old looking website</li>\n",
    "\t<li>Home Page</li>\n",
    "</ol>\n",
    "\n",
    "<h3><em><u><strong>Image Classification Task, use a CNN model.</strong></u></em></h3>\n",
    "\n",
    "<h3>&nbsp;</h3>\n"
   ]
  },
  {
   "cell_type": "markdown",
   "metadata": {},
   "source": [
    "<h1 id=\"Intro-to-CNN-models: \"><em><strong>Intro to CNN models:&nbsp;</strong></em><br />\n",
    "&nbsp;</h1>\n"
   ]
  },
  {
   "cell_type": "markdown",
   "metadata": {},
   "source": [
    "<p><img alt=\"Learn more complex feats as more layers increased. \" src=\"https://miro.medium.com/max/2052/1*yZQjaMKHjm1HzDF4t4juzg.png\" style=\"width: 1026px; height: 730px;\" /></p>\n"
   ]
  },
  {
   "cell_type": "markdown",
   "metadata": {},
   "source": [
    "ref;  https://towardsdatascience.com/image-classifier-cats-vs-dogs-with-convolutional-neural-networks-cnns-and-google-colabs-4e9af21ae7a8"
   ]
  },
  {
   "cell_type": "markdown",
   "metadata": {},
   "source": [
    "<p id=\"Each-layer-learns-to-recognise-a-shape-and-as-we-move-to-deeper-layers,-the-complexity-of-the-shape-increases.-\"><strong><em>Each layer learns to recognise a shape and as we move to deeper layers, the complexity of the shape increases. </em></strong></p>\n",
    "\n",
    "<p>&nbsp;</p>\n",
    "\n",
    "<p><strong><em>SImilar to how you learn to draw.</em></strong></p>\n",
    "\n",
    "<p><strong><em>Initially it starts with learning simple straight lines, next it moves on to squares and rectangles, next layer would learn about curves, next layer would learn specific things specific to data and so on</em></strong></p>\n"
   ]
  },
  {
   "cell_type": "markdown",
   "metadata": {},
   "source": [
    "<p><img alt=\"\" src=\"https://miro.medium.com/max/1356/1*-OM6jQTMNACDX2vAh_lvMQ.png\" style=\"width: 678px; height: 462px;\" /></p>\n"
   ]
  },
  {
   "cell_type": "markdown",
   "metadata": {},
   "source": [
    "<h2 id=\"Make-some-imports:\"><em>Make some imports:</em></h2>\n"
   ]
  },
  {
   "cell_type": "code",
   "execution_count": null,
   "metadata": {},
   "outputs": [],
   "source": [
    "import os\n",
    "import random\n",
    "import sys\n",
    "import shutil\n",
    "import numpy as np\n",
    "import pandas as pd \n",
    "import cv2"
   ]
  },
  {
   "cell_type": "markdown",
   "metadata": {},
   "source": [
    "## Read Data"
   ]
  },
  {
   "cell_type": "code",
   "execution_count": null,
   "metadata": {},
   "outputs": [],
   "source": [
    "labels_file =  \"/Users/mayanksatnalika/Desktop/eyeballer/eyeballer-training-data/labels.csv\"\n",
    "labels_csv = pd.read_csv(labels_file)"
   ]
  },
  {
   "cell_type": "code",
   "execution_count": null,
   "metadata": {},
   "outputs": [],
   "source": [
    "labels_csv[:3]"
   ]
  },
  {
   "cell_type": "code",
   "execution_count": null,
   "metadata": {},
   "outputs": [],
   "source": [
    "train_files = labels_csv.loc[labels_csv['evaluation'] == False ]\n",
    "test_files = labels_csv.loc[labels_csv['evaluation'] == True ]"
   ]
  },
  {
   "cell_type": "code",
   "execution_count": null,
   "metadata": {},
   "outputs": [],
   "source": [
    "len(train_files)"
   ]
  },
  {
   "cell_type": "code",
   "execution_count": null,
   "metadata": {},
   "outputs": [],
   "source": [
    "train_dir = \"/Users/mayanksatnalika/Desktop/eyeballer/eyeballer-training-data/train_images/\"\n",
    "test_dir =  \"/Users/mayanksatnalika/Desktop/eyeballer/eyeballer-training-data/test_images/\"\n",
    "%mkdir /Users/mayanksatnalika/Desktop/eyeballer/eyeballer-training-data/train_images/\n",
    "%mkdir /Users/mayanksatnalika/Desktop/eyeballer/eyeballer-training-data/test_images/"
   ]
  },
  {
   "cell_type": "code",
   "execution_count": null,
   "metadata": {},
   "outputs": [],
   "source": [
    "def remove_img(image, orignal_image_dir, new_image_dir):\n",
    "    \n",
    "    shutil.move(orignal_image_dir + image, new_image_dir + image )"
   ]
  },
  {
   "cell_type": "markdown",
   "metadata": {},
   "source": [
    "### Run Once"
   ]
  },
  {
   "cell_type": "code",
   "execution_count": null,
   "metadata": {},
   "outputs": [],
   "source": [
    "for file_ in list(train_files['filename']):\n",
    "    try:\n",
    "        remove_img(file_, image_dir, train_dir )\n",
    "        \n",
    "    except Exception as e:\n",
    "        print (\"exc: \", e)\n",
    "     \n",
    "    \n",
    "for file_ in list(test_files['filename']):\n",
    "    try:\n",
    "        remove_img(file_, image_dir, test_dir )\n",
    "    except Exception as e:\n",
    "        print (\"exc: \", e)\n"
   ]
  },
  {
   "cell_type": "markdown",
   "metadata": {},
   "source": [
    "# The interesting stuff:"
   ]
  },
  {
   "cell_type": "code",
   "execution_count": null,
   "metadata": {},
   "outputs": [],
   "source": [
    "import tensorflow as tf"
   ]
  },
  {
   "cell_type": "markdown",
   "metadata": {},
   "source": [
    "<h3><u><strong><em>TENSORFLOW</em></strong></u></h3>\n",
    "\n",
    "<h3>An open source library used for deep learning.</h3>\n",
    "\n",
    "<p>&nbsp;</p>\n",
    "\n",
    "<blockquote>\n",
    "<p>TensorFlow is an end-to-end open source platform for machine learning. It has a comprehensive, flexible ecosystem of tools, libraries and community resources that lets researchers push the state-of-the-art in ML and developers easily build and deploy ML powered application...</p>\n",
    "</blockquote>\n"
   ]
  },
  {
   "cell_type": "markdown",
   "metadata": {},
   "source": [
    "<h3><em><u><strong>KERAS</strong></u></em></h3>\n",
    "\n",
    "<p>&nbsp;</p>\n",
    "\n",
    "<p>Tensorflow provides a lot of operations, 90% of&nbsp; tasks you need to be done is something which would be covered by some pre-available code.</p>\n",
    "\n",
    "<p>Keras is a wrapper over tensorflow which provides simple interface to do do most of the deep learning stuff you will ever need.&nbsp;&nbsp;</p>\n",
    "\n",
    "<p><br />\n",
    "Recently tensorflow 2.0 was released which made Keras as a part of itself.&nbsp;</p>\n"
   ]
  },
  {
   "cell_type": "markdown",
   "metadata": {},
   "source": [
    "<p id=\"The-keras-pipeline:\">The keras pipeline:</p>\n",
    "\n",
    "<p>&nbsp;&nbsp;&nbsp;&nbsp; You define a model.</p>\n",
    "\n",
    "<p>&nbsp;&nbsp;&nbsp;&nbsp; A model is made of the following components:&nbsp;</p>\n",
    "\n",
    "<ol>\n",
    "\t<li>\n",
    "\t<p>An input Layer&nbsp;</p>\n",
    "\t</li>\n",
    "\t<li>\n",
    "\t<p>The middel layers&nbsp;</p>\n",
    "\t</li>\n",
    "\t<li>\n",
    "\t<p>The ouput layer.&nbsp;</p>\n",
    "\t</li>\n",
    "</ol>\n",
    "\n",
    "<p>After a model if defined, we&nbsp; fit the data on the model&nbsp;</p>\n",
    "\n",
    "<p>&nbsp;</p>\n",
    "\n",
    "<pre>\n",
    "model = Sequential()\n",
    "</pre>\n",
    "\n",
    "<pre>\n",
    "model.add(Conv2D(32, kernel_size=(5, 5), strides=(1, 1),\n",
    "&nbsp; &nbsp; &nbsp; &nbsp; &nbsp; &nbsp; &nbsp; &nbsp; &nbsp;activation=&#39;relu&#39;,\n",
    "&nbsp; &nbsp; &nbsp; &nbsp; &nbsp; &nbsp; &nbsp; &nbsp; &nbsp;input_shape=input_shape))\n",
    "model.add(MaxPooling2D(pool_size=(2, 2), strides=(2, 2)))\n",
    "model.add(Conv2D(64, (5, 5), activation=&#39;relu&#39;))\n",
    "model.add(MaxPooling2D(pool_size=(2, 2)))\n",
    "model.add(Flatten())\n",
    "model.add(Dense(1000, activation=&#39;relu&#39;))\n",
    "model.add(Dense(num_classes, activation=&#39;softmax&#39;))\n",
    "</pre>\n",
    "\n",
    "<pre data-line-offset=\"0\" data-start=\"1\">\n",
    "<code>model.compile(loss=keras.losses.categorical_crossentropy,\n",
    "              optimizer=keras.optimizers.SGD(lr=0.01),\n",
    "              metrics=[&#39;accuracy&#39;])</code></pre>\n",
    "\n",
    "<pre>\n",
    "model.fit ( input_data , needed_output) </pre>\n",
    "\n",
    "<p><br />\n",
    "&nbsp;</p>\n"
   ]
  },
  {
   "cell_type": "code",
   "execution_count": null,
   "metadata": {},
   "outputs": [],
   "source": [
    "image_dir = \"/Users/mayanksatnalika/Desktop/eyeballer/eyeballer-training-data/images/\"\n",
    "image_width, image_height = 224, 224\n",
    "input_shape = (image_width, image_height, 3)\n",
    "DATA_LABELS = [\"custom404\", \"login\", \"homepage\", \"oldlooking\"]"
   ]
  },
  {
   "cell_type": "code",
   "execution_count": null,
   "metadata": {},
   "outputs": [],
   "source": [
    "def model(input_shape, summary= False):\n",
    "    model = tf.keras.Sequential()\n",
    "    pretrained_layer = tf.keras.applications.mobilenet.MobileNet(weights='imagenet', include_top=False, input_shape=input_shape)\n",
    "    model.add(pretrained_layer)\n",
    "    model.add(tf.keras.layers.GlobalAveragePooling2D())\n",
    "    model.add(tf.keras.layers.Dense(8, activation=\"relu\"))\n",
    "    model.add(tf.keras.layers.Dropout(0.5))\n",
    "    model.add(tf.keras.layers.Dense(len(DATA_LABELS), activation=\"sigmoid\"))\n",
    "\n",
    "    model.compile(optimizer=tf.keras.optimizers.Adam(0.0005),\n",
    "                        loss=\"binary_crossentropy\",\n",
    "                        metrics=[\"accuracy\"])\n",
    "    if summary:\n",
    "        print(model.summary())\n",
    "    return model"
   ]
  },
  {
   "cell_type": "code",
   "execution_count": null,
   "metadata": {},
   "outputs": [],
   "source": [
    "custom_model = model(input_shape, summary = True )"
   ]
  },
  {
   "cell_type": "markdown",
   "metadata": {},
   "source": [
    "<h3><u><em><strong>Augmentation</strong></em></u></h3>\n",
    "\n",
    "<p id=\"If-I-dont'-have-many-images-to-train-a-model...\"><em><strong>If I dont&#39; have many images to train a model...</strong></em></p>\n"
   ]
  },
  {
   "cell_type": "code",
   "execution_count": null,
   "metadata": {},
   "outputs": [],
   "source": [
    "import Augmentor\n"
   ]
  },
  {
   "cell_type": "code",
   "execution_count": null,
   "metadata": {},
   "outputs": [],
   "source": [
    "Augmentor.__file__"
   ]
  },
  {
   "cell_type": "code",
   "execution_count": null,
   "metadata": {},
   "outputs": [],
   "source": [
    "import Augmentor\n",
    "augmented_ouptut_dir =  \"/Users/mayanksatnalika/Desktop/eyeballer/eyeballer-training-data/augmented_train_images/\"\n",
    "augmentor = Augmentor.Pipeline(source_directory=train_dir, output_directory=augmented_ouptut_dir)\n",
    "augmentor.zoom(probability=0.75, min_factor=0.8, max_factor=1.2)\n",
    "augmentor.random_color(probability=0.75, min_factor=0.5, max_factor=1.0)\n",
    "augmentor.random_contrast(probability=0.75, min_factor=0.8, max_factor=1.0)\n",
    "augmentor.random_brightness(probability=0.75, min_factor=0.8, max_factor=1.2)\n",
    "augmentor.random_erasing(probability=0.75, rectangle_area=0.15)"
   ]
  },
  {
   "cell_type": "markdown",
   "metadata": {},
   "source": [
    "<p><img alt=\"\" src=\"https://i.ibb.co/5FrW8qM/Screenshot-2019-12-13-at-6-46-32-PM.png \" style=\"border-width: 10px; border-style: solid; width: 1515px; height: 600px;\" /></p>\n"
   ]
  },
  {
   "cell_type": "code",
   "execution_count": null,
   "metadata": {},
   "outputs": [],
   "source": [
    "augmentor.sample(10000,multi_threaded=True)"
   ]
  },
  {
   "cell_type": "markdown",
   "metadata": {},
   "source": [
    "<h3 id=\"Read-images-data-produced-by-augmentor\"><strong><em>Read images data produced by augmentor and match with actual labels</em></strong></h3>\n"
   ]
  },
  {
   "cell_type": "code",
   "execution_count": null,
   "metadata": {},
   "outputs": [],
   "source": [
    "from tensorflow.keras.applications.mobilenet import preprocess_input as preprocess_for_mobilenet\n",
    "def make_suitable_for_eyeballer(image):\n",
    "    image_array = np.array(image).astype('uint8')\n",
    "    image_array = preprocess_for_mobilenet(image_array)\n",
    "    return image_array"
   ]
  },
  {
   "cell_type": "code",
   "execution_count": null,
   "metadata": {},
   "outputs": [],
   "source": [
    "\n",
    "def load_image( infilename, print_file=False ) :\n",
    "    if print_file:\n",
    "        print (infilename.split(\"_original_\")[-1].split(\".png\")[0]+\".png\")\n",
    "    label_file_path = infilename.split(\"_original_\")[-1].split(\".png\")[0]+\".png\"\n",
    "    arr = cv2.imread(infilename)\n",
    "    arr = np.resize(arr, input_shape)\n",
    "    arr = make_suitable_for_eyeballer(arr)\n",
    "    return arr, label_file_path"
   ]
  },
  {
   "cell_type": "code",
   "execution_count": null,
   "metadata": {},
   "outputs": [],
   "source": [
    "train_files = os.listdir(augmented_ouptut_dir)"
   ]
  },
  {
   "cell_type": "code",
   "execution_count": null,
   "metadata": {},
   "outputs": [],
   "source": [
    "len(train_files)"
   ]
  },
  {
   "cell_type": "code",
   "execution_count": null,
   "metadata": {},
   "outputs": [],
   "source": [
    "all_train_images = [ ]\n",
    "all_train_labels = [ ]\n",
    "\n",
    "for file_ in train_files:\n",
    "    image_path = augmented_ouptut_dir  + file_\n",
    "    image_, label_path  = load_image(image_path)\n",
    "    all_train_images.append(image_)\n",
    "    row_ = labels_csv.loc[labels_csv['filename'] ==  label_path ] \n",
    "    c_404, login , home, old = row_['custom404'],  row_['login'],  row_['homepage'],  row_['oldlooking'] \n",
    "    all_train_labels.append( (int(c_404), int(login ), int(home), int(old)) )"
   ]
  },
  {
   "cell_type": "code",
   "execution_count": null,
   "metadata": {},
   "outputs": [],
   "source": [
    "all_train_images = np.array(all_train_images)"
   ]
  },
  {
   "cell_type": "code",
   "execution_count": null,
   "metadata": {},
   "outputs": [],
   "source": [
    "type(all_train_images)"
   ]
  },
  {
   "cell_type": "markdown",
   "metadata": {},
   "source": [
    "<h1 id=\"Fit-the-model\"><em>Fit the model:</em></h1>\n"
   ]
  },
  {
   "cell_type": "code",
   "execution_count": null,
   "metadata": {},
   "outputs": [],
   "source": [
    "custom_model.fit(x=all_train_images[:1000], y = np.asarray(all_train_labels)[:1000] , epochs=1)"
   ]
  },
  {
   "cell_type": "markdown",
   "metadata": {},
   "source": [
    "<h3 id=\"Using-the-provided-model\"><em>Using the provided model</em></h3>\n"
   ]
  },
  {
   "cell_type": "code",
   "execution_count": null,
   "metadata": {},
   "outputs": [],
   "source": [
    "def model(input_shape, summary= False):\n",
    "    model = tf.keras.Sequential()\n",
    "    pretrained_layer = tf.keras.applications.mobilenet.MobileNet(weights='imagenet', include_top=False, input_shape=input_shape)\n",
    "    model.add(pretrained_layer)\n",
    "    model.add(tf.keras.layers.GlobalAveragePooling2D())\n",
    "    model.add(tf.keras.layers.Dense(256, activation=\"relu\"))\n",
    "    model.add(tf.keras.layers.Dropout(0.5))\n",
    "    model.add(tf.keras.layers.Dense(128, activation=\"relu\"))\n",
    "    model.add(tf.keras.layers.Dropout(0.2))\n",
    "    model.add(tf.keras.layers.Dense(len(DATA_LABELS), activation=\"sigmoid\"))\n",
    "\n",
    "    model.compile(optimizer=tf.keras.optimizers.Adam(0.0005),\n",
    "                       loss=\"binary_crossentropy\",\n",
    "                       metrics=[\"accuracy\"])\n",
    "    if summary:\n",
    "        print(model.summary())\n",
    "    return model"
   ]
  },
  {
   "cell_type": "code",
   "execution_count": null,
   "metadata": {},
   "outputs": [],
   "source": [
    "pretrained_model = model(input_shape=input_shape)"
   ]
  },
  {
   "cell_type": "code",
   "execution_count": null,
   "metadata": {},
   "outputs": [],
   "source": [
    "model_weights_file = \"/Users/mayanksatnalika/Desktop/eyeballer/eyeballer-training-data/bishop-fox-pretrained-v1.h5\""
   ]
  },
  {
   "cell_type": "code",
   "execution_count": null,
   "metadata": {},
   "outputs": [],
   "source": [
    "pretrained_model.load_weights(model_weights_file)"
   ]
  },
  {
   "cell_type": "markdown",
   "metadata": {},
   "source": [
    "<p><strong>!! TIP:&nbsp;</strong></p>\n",
    "\n",
    "<pre>\n",
    "np.argmax( arr )\n",
    "</pre>\n",
    "\n",
    "<p><em>Gives the <strong>index of the maximum item from our array</strong>.&nbsp;</em></p>\n"
   ]
  },
  {
   "cell_type": "code",
   "execution_count": null,
   "metadata": {
    "scrolled": true
   },
   "outputs": [],
   "source": [
    "val_dictionary = {0 : \"custom404\",\n",
    "                 1: \"login\",\n",
    "                 2: \"homepage\",\n",
    "                 3: \"old-looking\"}\n",
    "\n",
    "\n",
    "for idx, val in enumerate(all_train_images):\n",
    "    preds = pretrained_model.predict(x=  np.array([val]) )\n",
    "    print (val_dictionary[np.argmax(preds)], val_dictionary[np.argmax(all_train_labels[idx])])\n",
    "     \n",
    "    print (   preds , all_train_labels[idx])\n",
    "        \n",
    "    \n",
    "    print ('----------') "
   ]
  },
  {
   "cell_type": "markdown",
   "metadata": {},
   "source": [
    "<h3 id=\"Trying-on-own-image\"><strong><em>Trying on own image:</em></strong></h3>\n"
   ]
  },
  {
   "cell_type": "code",
   "execution_count": null,
   "metadata": {},
   "outputs": [],
   "source": [
    "convertable_image_array, _  = load_image(\"/Users/mayanksatnalika/Documents/Screenshot 2019-12-13 at 8.09.38 PM.png\")"
   ]
  },
  {
   "cell_type": "code",
   "execution_count": null,
   "metadata": {
    "scrolled": true
   },
   "outputs": [],
   "source": [
    "convertable_image_array.shape"
   ]
  },
  {
   "cell_type": "code",
   "execution_count": null,
   "metadata": {
    "scrolled": true
   },
   "outputs": [],
   "source": [
    "pretrained_model.predict(x=  np.array([convertable_image_array]) )"
   ]
  }
 ],
 "metadata": {
  "kernelspec": {
   "display_name": "Python eyeballer",
   "language": "python",
   "name": "eyeballer"
  },
  "language_info": {
   "codemirror_mode": {
    "name": "ipython",
    "version": 3
   },
   "file_extension": ".py",
   "mimetype": "text/x-python",
   "name": "python",
   "nbconvert_exporter": "python",
   "pygments_lexer": "ipython3",
   "version": "3.6.9"
  }
 },
 "nbformat": 4,
 "nbformat_minor": 2
}
